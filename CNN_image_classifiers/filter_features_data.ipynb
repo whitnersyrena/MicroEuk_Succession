{
 "cells": [
  {
   "cell_type": "code",
   "execution_count": 20,
   "id": "6c10971a",
   "metadata": {},
   "outputs": [],
   "source": [
    "import os\n",
    "import re\n",
    "from collections import defaultdict"
   ]
  },
  {
   "cell_type": "code",
   "execution_count": 27,
   "id": "4e087544",
   "metadata": {},
   "outputs": [],
   "source": [
    "# Define the image root folder\n",
    "images_base_dir = r\"C:\\Users\\swhit\\OneDrive\\Desktop\\IFCB\\DATA\\images\\redo\\debris_removed\""
   ]
  },
  {
   "cell_type": "code",
   "execution_count": 28,
   "id": "c68b8b94",
   "metadata": {},
   "outputs": [],
   "source": [
    "# This will store sample_id → set of ROI numbers\n",
    "roi_lookup = defaultdict(set)"
   ]
  },
  {
   "cell_type": "code",
   "execution_count": 29,
   "id": "cb203ba4",
   "metadata": {
    "scrolled": false
   },
   "outputs": [
    {
     "name": "stdout",
     "output_type": "stream",
     "text": [
      "✅ Loaded ROI data for 8 samples.\n"
     ]
    }
   ],
   "source": [
    "# Recursively walk through all files\n",
    "for root, dirs, files in os.walk(images_base_dir):\n",
    "    for file in files:\n",
    "        if file.endswith(\".png\") and re.search(r\"_\\d{5}\\.png$\", file):\n",
    "            match = re.match(r\"(D\\d+T\\d+_IFCB\\d+)_0*(\\d{1,5})\\.png\", file)\n",
    "            if match:\n",
    "                sample_id, roi = match.groups()\n",
    "                roi_lookup[sample_id].add(int(roi))\n",
    "\n",
    "print(f\"✅ Loaded ROI data for {len(roi_lookup)} samples.\")"
   ]
  },
  {
   "cell_type": "code",
   "execution_count": 30,
   "id": "703d7332",
   "metadata": {},
   "outputs": [],
   "source": [
    "import pandas as pd"
   ]
  },
  {
   "cell_type": "code",
   "execution_count": 31,
   "id": "fa46add4",
   "metadata": {},
   "outputs": [],
   "source": [
    "features_dir = r\"C:\\Users\\swhit\\OneDrive\\Desktop\\IFCB\\DATA\\features\\redo\""
   ]
  },
  {
   "cell_type": "code",
   "execution_count": 32,
   "id": "2dac04bd",
   "metadata": {},
   "outputs": [
    {
     "name": "stdout",
     "output_type": "stream",
     "text": [
      "✅ Saved C:\\Users\\swhit\\OneDrive\\Desktop\\IFCB\\DATA\\features\\redo\\D20250505T223819_IFCB121_features_v2_filtered.csv: 6649 / 6797 rows kept.\n",
      "✅ Saved C:\\Users\\swhit\\OneDrive\\Desktop\\IFCB\\DATA\\features\\redo\\D20250505T231847_IFCB121_features_v2_filtered.csv: 4811 / 4893 rows kept.\n",
      "✅ Saved C:\\Users\\swhit\\OneDrive\\Desktop\\IFCB\\DATA\\features\\redo\\D20250506T000014_IFCB121_features_v2_filtered.csv: 6716 / 6785 rows kept.\n",
      "✅ Saved C:\\Users\\swhit\\OneDrive\\Desktop\\IFCB\\DATA\\features\\redo\\D20250507T202756_IFCB121_features_v2_filtered.csv: 357 / 447 rows kept.\n",
      "✅ Saved C:\\Users\\swhit\\OneDrive\\Desktop\\IFCB\\DATA\\features\\redo\\D20250507T210825_IFCB121_features_v2_filtered.csv: 9909 / 10003 rows kept.\n",
      "✅ Saved C:\\Users\\swhit\\OneDrive\\Desktop\\IFCB\\DATA\\features\\redo\\D20250507T214808_IFCB121_features_v2_filtered.csv: 6357 / 6419 rows kept.\n",
      "✅ Saved C:\\Users\\swhit\\OneDrive\\Desktop\\IFCB\\DATA\\features\\redo\\D20250507T232457_IFCB121_features_v2_filtered.csv: 3097 / 3210 rows kept.\n",
      "✅ Saved C:\\Users\\swhit\\OneDrive\\Desktop\\IFCB\\DATA\\features\\redo\\D20250508T000417_IFCB121_features_v2_filtered.csv: 237 / 272 rows kept.\n"
     ]
    }
   ],
   "source": [
    "for csv_file in os.listdir(features_dir):\n",
    "    if csv_file.endswith(\".csv\") and \"_features_v2\" in csv_file:\n",
    "        sample_id = csv_file.replace(\"_features_v2.csv\", \"\")\n",
    "        csv_path = os.path.join(features_dir, csv_file)\n",
    "\n",
    "        if sample_id not in roi_lookup:\n",
    "            print(f\"⚠️ Skipping {csv_file}: no image ROIs found for {sample_id}\")\n",
    "            continue\n",
    "\n",
    "        try:\n",
    "            df = pd.read_csv(csv_path)\n",
    "            if \"roi_number\" not in df.columns:\n",
    "                print(f\"⚠️ Skipping {csv_file}: no 'roi_number' column\")\n",
    "                continue\n",
    "\n",
    "            valid_rois = roi_lookup[sample_id]\n",
    "            df_filtered = df[df[\"roi_number\"].isin(valid_rois)]\n",
    "\n",
    "            out_path = os.path.join(features_dir, csv_file.replace(\".csv\", \"_filtered.csv\"))\n",
    "            df_filtered.to_csv(out_path, index=False)\n",
    "\n",
    "            print(f\"✅ Saved {out_path}: {len(df_filtered)} / {len(df)} rows kept.\")\n",
    "\n",
    "        except Exception as e:\n",
    "            print(f\"❌ Error processing {csv_file}: {e}\")"
   ]
  }
 ],
 "metadata": {
  "kernelspec": {
   "display_name": "Python 3 (ipykernel)",
   "language": "python",
   "name": "python3"
  },
  "language_info": {
   "codemirror_mode": {
    "name": "ipython",
    "version": 3
   },
   "file_extension": ".py",
   "mimetype": "text/x-python",
   "name": "python",
   "nbconvert_exporter": "python",
   "pygments_lexer": "ipython3",
   "version": "3.9.7"
  }
 },
 "nbformat": 4,
 "nbformat_minor": 5
}
