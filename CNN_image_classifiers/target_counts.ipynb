{
 "cells": [
  {
   "cell_type": "code",
   "execution_count": null,
   "id": "62057f00",
   "metadata": {},
   "outputs": [],
   "source": [
    "import os\n",
    "import csv"
   ]
  },
  {
   "cell_type": "code",
   "execution_count": null,
   "id": "11e9b2c7",
   "metadata": {},
   "outputs": [],
   "source": [
    "# This is just to count the number of files from within a specifici folder (in this case, number of classified images)\n",
    "# This will put them into a .csv file, will have to run each individually for whatever set of images you want and then manually combine .csv in R or excel "
   ]
  },
  {
   "cell_type": "code",
   "execution_count": 2,
   "id": "6705beb1",
   "metadata": {},
   "outputs": [],
   "source": [
    "# define base directory \n",
    "base_dir = r\"C:\\Users\\swhit\\OneDrive\\Desktop\\skipped\""
   ]
  },
  {
   "cell_type": "code",
   "execution_count": null,
   "id": "164f6cb7",
   "metadata": {},
   "outputs": [],
   "source": [
    "# Output CSV file\n",
    "output_csv = r\"C:\\Users\\swhit\\OneDrive\\Desktop\\skipped\\host_counts.csv\""
   ]
  },
  {
   "cell_type": "code",
   "execution_count": null,
   "id": "d7ffb676",
   "metadata": {},
   "outputs": [],
   "source": [
    "# Prepare output data\n",
    "output_data = [(\"sample\", \"hosts\", \"no_hosts\")]"
   ]
  },
  {
   "cell_type": "code",
   "execution_count": 5,
   "id": "8f5ef98d",
   "metadata": {},
   "outputs": [],
   "source": [
    "# Iterate through each sample directory\n",
    "for sample_dir in os.listdir(base_dir):\n",
    "    sample_path = os.path.join(base_dir, sample_dir, \"sorted_output\")\n",
    "    target_dir = os.path.join(sample_path, \"target\")\n",
    "    not_target_dir = os.path.join(sample_path, \"non_target\")\n",
    "\n",
    "    if os.path.isdir(sample_path):\n",
    "        # Count files in each directory\n",
    "        target_count = len(os.listdir(target_dir)) if os.path.isdir(target_dir) else 0\n",
    "        not_target_count = len(os.listdir(not_target_dir)) if os.path.isdir(not_target_dir) else 0\n",
    "\n",
    "        # Append to output data\n",
    "        output_data.append((sample_dir, target_count, not_target_count))"
   ]
  },
  {
   "cell_type": "code",
   "execution_count": 6,
   "id": "df6028f2",
   "metadata": {},
   "outputs": [
    {
     "name": "stdout",
     "output_type": "stream",
     "text": [
      "✅ File counts saved to C:\\Users\\swhit\\OneDrive\\Desktop\\skipped\\grazer_counts.csv\n"
     ]
    }
   ],
   "source": [
    "# Write to CSV\n",
    "with open(output_csv, \"w\", newline=\"\") as f:\n",
    "    writer = csv.writer(f)\n",
    "    writer.writerows(output_data)\n",
    "\n",
    "print(f\"✅ File counts saved to {output_csv}\")"
   ]
  }
 ],
 "metadata": {
  "kernelspec": {
   "display_name": "Python 3 (ipykernel)",
   "language": "python",
   "name": "python3"
  },
  "language_info": {
   "codemirror_mode": {
    "name": "ipython",
    "version": 3
   },
   "file_extension": ".py",
   "mimetype": "text/x-python",
   "name": "python",
   "nbconvert_exporter": "python",
   "pygments_lexer": "ipython3",
   "version": "3.9.7"
  }
 },
 "nbformat": 4,
 "nbformat_minor": 5
}
